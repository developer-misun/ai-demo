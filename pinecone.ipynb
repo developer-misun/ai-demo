{
  "nbformat": 4,
  "nbformat_minor": 0,
  "metadata": {
    "colab": {
      "provenance": [],
      "toc_visible": true,
      "authorship_tag": "ABX9TyMhLBz/5FVVoZkBMnk309ju",
      "include_colab_link": true
    },
    "kernelspec": {
      "name": "python3",
      "display_name": "Python 3"
    },
    "language_info": {
      "name": "python"
    }
  },
  "cells": [
    {
      "cell_type": "markdown",
      "metadata": {
        "id": "view-in-github",
        "colab_type": "text"
      },
      "source": [
        "<a href=\"https://colab.research.google.com/github/developer-misun/ai-demo/blob/main/pinecone.ipynb\" target=\"_parent\"><img src=\"https://colab.research.google.com/assets/colab-badge.svg\" alt=\"Open In Colab\"/></a>"
      ]
    },
    {
      "cell_type": "markdown",
      "source": [
        "# Pinecone 실습\n"
      ],
      "metadata": {
        "id": "9OOwlNlGFLC-"
      }
    },
    {
      "cell_type": "markdown",
      "source": [
        "## 환경설정"
      ],
      "metadata": {
        "id": "ocd7ofzlK5tE"
      }
    },
    {
      "cell_type": "code",
      "execution_count": 1,
      "metadata": {
        "colab": {
          "base_uri": "https://localhost:8080/"
        },
        "id": "wzDI9yQhCEg6",
        "outputId": "7f29686f-e3c2-459b-e0e0-fa908163d7cc"
      },
      "outputs": [
        {
          "output_type": "stream",
          "name": "stdout",
          "text": [
            "Collecting pinecone\n",
            "  Downloading pinecone-5.4.0-py3-none-any.whl.metadata (19 kB)\n",
            "Requirement already satisfied: certifi>=2019.11.17 in /usr/local/lib/python3.10/dist-packages (from pinecone) (2024.8.30)\n",
            "Collecting pinecone-plugin-inference<3.0.0,>=2.0.0 (from pinecone)\n",
            "  Downloading pinecone_plugin_inference-2.0.1-py3-none-any.whl.metadata (2.2 kB)\n",
            "Collecting pinecone-plugin-interface<0.0.8,>=0.0.7 (from pinecone)\n",
            "  Downloading pinecone_plugin_interface-0.0.7-py3-none-any.whl.metadata (1.2 kB)\n",
            "Requirement already satisfied: python-dateutil>=2.5.3 in /usr/local/lib/python3.10/dist-packages (from pinecone) (2.8.2)\n",
            "Requirement already satisfied: tqdm>=4.64.1 in /usr/local/lib/python3.10/dist-packages (from pinecone) (4.66.6)\n",
            "Requirement already satisfied: typing-extensions>=3.7.4 in /usr/local/lib/python3.10/dist-packages (from pinecone) (4.12.2)\n",
            "Requirement already satisfied: urllib3>=1.26.0 in /usr/local/lib/python3.10/dist-packages (from pinecone) (2.2.3)\n",
            "Requirement already satisfied: six>=1.5 in /usr/local/lib/python3.10/dist-packages (from python-dateutil>=2.5.3->pinecone) (1.16.0)\n",
            "Downloading pinecone-5.4.0-py3-none-any.whl (427 kB)\n",
            "\u001b[2K   \u001b[90m━━━━━━━━━━━━━━━━━━━━━━━━━━━━━━━━━━━━━━━━\u001b[0m \u001b[32m427.3/427.3 kB\u001b[0m \u001b[31m15.1 MB/s\u001b[0m eta \u001b[36m0:00:00\u001b[0m\n",
            "\u001b[?25hDownloading pinecone_plugin_inference-2.0.1-py3-none-any.whl (84 kB)\n",
            "\u001b[2K   \u001b[90m━━━━━━━━━━━━━━━━━━━━━━━━━━━━━━━━━━━━━━━━\u001b[0m \u001b[32m84.4/84.4 kB\u001b[0m \u001b[31m4.9 MB/s\u001b[0m eta \u001b[36m0:00:00\u001b[0m\n",
            "\u001b[?25hDownloading pinecone_plugin_interface-0.0.7-py3-none-any.whl (6.2 kB)\n",
            "Installing collected packages: pinecone-plugin-interface, pinecone-plugin-inference, pinecone\n",
            "Successfully installed pinecone-5.4.0 pinecone-plugin-inference-2.0.1 pinecone-plugin-interface-0.0.7\n"
          ]
        }
      ],
      "source": [
        "pip install pinecone"
      ]
    },
    {
      "cell_type": "code",
      "source": [
        "#API colab\n",
        "PINECONE_API_KEY=\"pcsk_4C6Wn4_Pt5EXymW6Vvu4FhASVxZspR7iQmKMQMDCMCwB9qYe8ezpXAsU6JTQoJNH9XsbDH\""
      ],
      "metadata": {
        "id": "H4lPld8bCVHx"
      },
      "execution_count": 3,
      "outputs": []
    },
    {
      "cell_type": "code",
      "source": [
        "from pinecone import Pinecone, ServerlessSpec\n",
        "\n",
        "pc = Pinecone(api_key=PINECONE_API_KEY)"
      ],
      "metadata": {
        "id": "Wj1y-MFgC685"
      },
      "execution_count": 7,
      "outputs": []
    },
    {
      "cell_type": "markdown",
      "source": [
        "## Create a serverless index"
      ],
      "metadata": {
        "id": "D37zf7b2Ex1T"
      }
    },
    {
      "cell_type": "code",
      "source": [
        "index_name = \"quickstart\"\n",
        "\n",
        "pc.create_index(\n",
        "    name=index_name,\n",
        "    dimension=1024, # Replace with your model dimensions\n",
        "    metric=\"cosine\", # Replace with your model metric\n",
        "    spec=ServerlessSpec(\n",
        "        cloud=\"aws\",\n",
        "        region=\"us-east-1\"\n",
        "    )\n",
        ")"
      ],
      "metadata": {
        "id": "XPat3QP6DxtL"
      },
      "execution_count": 8,
      "outputs": []
    },
    {
      "cell_type": "markdown",
      "source": [
        "## 벡터 임베딩 생성"
      ],
      "metadata": {
        "id": "WAOnAiYtE1nM"
      }
    },
    {
      "cell_type": "code",
      "source": [
        "data = [\n",
        "    {\"id\": \"vec1\", \"text\": \"Apple is a popular fruit known for its sweetness and crisp texture.\"},\n",
        "    {\"id\": \"vec2\", \"text\": \"The tech company Apple is known for its innovative products like the iPhone.\"},\n",
        "    {\"id\": \"vec3\", \"text\": \"Many people enjoy eating apples as a healthy snack.\"},\n",
        "    {\"id\": \"vec4\", \"text\": \"Apple Inc. has revolutionized the tech industry with its sleek designs and user-friendly interfaces.\"},\n",
        "    {\"id\": \"vec5\", \"text\": \"An apple a day keeps the doctor away, as the saying goes.\"},\n",
        "    {\"id\": \"vec6\", \"text\": \"Apple Computer Company was founded on April 1, 1976, by Steve Jobs, Steve Wozniak, and Ronald Wayne as a partnership.\"}\n",
        "]\n",
        "\n",
        "embeddings = pc.inference.embed(\n",
        "    model=\"multilingual-e5-large\",\n",
        "    inputs=[d['text'] for d in data],\n",
        "    parameters={\"input_type\": \"passage\", \"truncate\": \"END\"}\n",
        ")\n",
        "print(embeddings[0])"
      ],
      "metadata": {
        "colab": {
          "base_uri": "https://localhost:8080/"
        },
        "id": "3ERFPZsfEuBV",
        "outputId": "ea8e0f22-95ca-4489-82c7-d6afbbe78f28"
      },
      "execution_count": 10,
      "outputs": [
        {
          "output_type": "stream",
          "name": "stdout",
          "text": [
            "{'values': [0.04913330078125, -0.01306915283203125, ..., -0.0196990966796875, -0.0110321044921875]}\n"
          ]
        }
      ]
    },
    {
      "cell_type": "markdown",
      "source": [
        "## 벡터 인덱스에 데이터 넣기\n",
        "\n",
        "- namespce : ns1"
      ],
      "metadata": {
        "id": "a_Cog4oAFJeZ"
      }
    },
    {
      "cell_type": "code",
      "source": [
        "# Wait for the index to be ready\n",
        "while not pc.describe_index(index_name).status['ready']:\n",
        "    time.sleep(1)\n",
        "\n",
        "index = pc.Index(index_name)\n",
        "\n",
        "vectors = []\n",
        "for d, e in zip(data, embeddings):\n",
        "    vectors.append({\n",
        "        \"id\": d['id'],\n",
        "        \"values\": e['values'],\n",
        "        \"metadata\": {'text': d['text']}\n",
        "    })\n",
        "\n",
        "index.upsert(\n",
        "    vectors=vectors,\n",
        "    namespace=\"ns1\"\n",
        ")"
      ],
      "metadata": {
        "colab": {
          "base_uri": "https://localhost:8080/"
        },
        "id": "atTz23ZRFwAn",
        "outputId": "b256d5f6-edad-42c6-bc2b-6f3a370dc2df"
      },
      "execution_count": 11,
      "outputs": [
        {
          "output_type": "execute_result",
          "data": {
            "text/plain": [
              "{'upserted_count': 6}"
            ]
          },
          "metadata": {},
          "execution_count": 11
        }
      ]
    },
    {
      "cell_type": "markdown",
      "source": [],
      "metadata": {
        "id": "A_9VSmktHKDG"
      }
    },
    {
      "cell_type": "markdown",
      "source": [
        "## 인덱스 확인\n",
        "현재 벡터 개수가 등록된 벡터개수와 맞는지 확인한다."
      ],
      "metadata": {
        "id": "bQ1B22I9GWUU"
      }
    },
    {
      "cell_type": "markdown",
      "source": [],
      "metadata": {
        "id": "HpCQN1HeEwQ3"
      }
    },
    {
      "cell_type": "code",
      "source": [
        "print(index.describe_index_stats())"
      ],
      "metadata": {
        "colab": {
          "base_uri": "https://localhost:8080/"
        },
        "id": "TGPjXRFvGcyz",
        "outputId": "f8fdf5d2-00db-4014-b01c-0307a51fac0c"
      },
      "execution_count": 12,
      "outputs": [
        {
          "output_type": "stream",
          "name": "stdout",
          "text": [
            "{'dimension': 1024,\n",
            " 'index_fullness': 0.0,\n",
            " 'namespaces': {'ns1': {'vector_count': 6}},\n",
            " 'total_vector_count': 6}\n"
          ]
        }
      ]
    },
    {
      "cell_type": "markdown",
      "source": [
        "## Query  "
      ],
      "metadata": {
        "id": "pRd5N_6IG_J_"
      }
    },
    {
      "cell_type": "markdown",
      "source": [
        "### 질문벡터 만들기"
      ],
      "metadata": {
        "id": "ySQEHCQeLRbv"
      }
    },
    {
      "cell_type": "code",
      "source": [
        "query = \"Tell me about the tech company known as Apple.\"\n",
        "\n",
        "embedding = pc.inference.embed(\n",
        "    model=\"multilingual-e5-large\",\n",
        "    inputs=[query],\n",
        "    parameters={\n",
        "        \"input_type\": \"query\"\n",
        "    }\n",
        ")"
      ],
      "metadata": {
        "id": "pB2imXneHs7f"
      },
      "execution_count": 14,
      "outputs": []
    },
    {
      "cell_type": "markdown",
      "source": [
        "### 유사 검색"
      ],
      "metadata": {
        "id": "ZlsO6b6YJtCe"
      }
    },
    {
      "cell_type": "code",
      "source": [
        "results = index.query(\n",
        "    namespace=\"ns1\",\n",
        "    vector=embedding[0].values,\n",
        "    top_k=3,\n",
        "    include_values=False,\n",
        "    include_metadata=True\n",
        ")\n",
        "\n",
        "print(results)"
      ],
      "metadata": {
        "colab": {
          "base_uri": "https://localhost:8080/"
        },
        "id": "v4QzOWVKJwwr",
        "outputId": "8cd97736-3ac8-4b78-e692-e0bd85f218a9"
      },
      "execution_count": 15,
      "outputs": [
        {
          "output_type": "stream",
          "name": "stdout",
          "text": [
            "{'matches': [{'id': 'vec2',\n",
            "              'metadata': {'text': 'The tech company Apple is known for its '\n",
            "                                   'innovative products like the iPhone.'},\n",
            "              'score': 0.872886717,\n",
            "              'values': []},\n",
            "             {'id': 'vec4',\n",
            "              'metadata': {'text': 'Apple Inc. has revolutionized the tech '\n",
            "                                   'industry with its sleek designs and '\n",
            "                                   'user-friendly interfaces.'},\n",
            "              'score': 0.853383482,\n",
            "              'values': []},\n",
            "             {'id': 'vec6',\n",
            "              'metadata': {'text': 'Apple Computer Company was founded on '\n",
            "                                   'April 1, 1976, by Steve Jobs, Steve '\n",
            "                                   'Wozniak, and Ronald Wayne as a '\n",
            "                                   'partnership.'},\n",
            "              'score': 0.849510133,\n",
            "              'values': []}],\n",
            " 'namespace': 'ns1',\n",
            " 'usage': {'read_units': 6}}\n"
          ]
        }
      ]
    }
  ]
}